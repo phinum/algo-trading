{
 "cells": [
  {
   "cell_type": "markdown",
   "metadata": {},
   "source": [
    "# Finance & Analytics Club\n",
    "\n",
    "## CAGR (Compounded Annual Growth Rate)\n",
    "\n",
    "CAGR is the annual rate of return realized by an asset/portfolio to reach its peak market value from its initial value.\n",
    "\n",
    "CAGR calculation assumes that the profits are continuously reinvested.\n",
    "\n",
    "It does not reflect investment rist therefore should always be used in conjunction with a volatility measure.\n",
    "\n",
    "More at: https://www.investopedia.com/terms/c/cagr.asp\n",
    "\n",
    "## Annualized Volatility\n",
    "\n",
    "It is represented by the standard deviation of the returns. Captures the variability of return from the mean return.\n",
    "\n",
    "It is a widely used method for risk, but does not capture tail risk.\n",
    "\n",
    "More at: https://www.investopedia.com/terms/v/volatility.asp\n",
    "\n",
    "## Sharpe Ratio\n",
    "\n",
    "It is the average return earned in excess of the free risk rate per unit of volatility.\n",
    "\n",
    "Sharpe ratio greater than 1 is good, greater than 2 is very good and greater than 3 is excellent.\n",
    "\n",
    "Investors pay close attention to this metric while comparing funds.\n",
    "\n",
    "More at: https://www.investopedia.com/terms/s/sharperatio.asp\n",
    "\n",
    "## Sortino Ratio\n",
    "\n",
    "It is a variation of Sharpe Ration which takes into account standard deviation of only negative returns.\n",
    "\n",
    "Sharpe Ratio fails to determine the difference between the upward and downward fluctuations, Sortino makes that distinction and therefore considers only harmful volatility.\n",
    "\n",
    "More at: https://www.investopedia.com/terms/s/sortinoratio.asp\n",
    "\n",
    "## Maximum Drawdown & Calmar Ratio\n",
    "\n",
    "Largest price drop in asset price over a specified time period is maximum dropdown.\n",
    "\n",
    "Investments with longer backtesting period will likely have larger maximum dropdown and therefore caution must be applied in comparing across strategies.\n",
    "\n",
    "Calmar Ratio is the ration between CAGR and maximum drawdown and it's measure of risk adjusted return.\n",
    "\n",
    "More at:https://www.investopedia.com/terms/m/maximum-drawdown-mdd.asp, https://www.investopedia.com/terms/c/calmarratio.asp\n",
    "\n",
    "Import necesary libraries"
   ]
  },
  {
   "cell_type": "code",
   "execution_count": 1,
   "metadata": {},
   "outputs": [],
   "source": [
    "import pandas_datareader.data as pdr\n",
    "import numpy as np\n",
    "import datetime as dt"
   ]
  },
  {
   "cell_type": "markdown",
   "metadata": {},
   "source": [
    "Download historical data for required stocks"
   ]
  },
  {
   "cell_type": "code",
   "execution_count": 2,
   "metadata": {},
   "outputs": [
    {
     "data": {
      "text/html": [
       "<div>\n",
       "<style scoped>\n",
       "    .dataframe tbody tr th:only-of-type {\n",
       "        vertical-align: middle;\n",
       "    }\n",
       "\n",
       "    .dataframe tbody tr th {\n",
       "        vertical-align: top;\n",
       "    }\n",
       "\n",
       "    .dataframe thead th {\n",
       "        text-align: right;\n",
       "    }\n",
       "</style>\n",
       "<table border=\"1\" class=\"dataframe\">\n",
       "  <thead>\n",
       "    <tr style=\"text-align: right;\">\n",
       "      <th></th>\n",
       "      <th>High</th>\n",
       "      <th>Low</th>\n",
       "      <th>Open</th>\n",
       "      <th>Close</th>\n",
       "      <th>Volume</th>\n",
       "      <th>Adj Close</th>\n",
       "    </tr>\n",
       "    <tr>\n",
       "      <th>Date</th>\n",
       "      <th></th>\n",
       "      <th></th>\n",
       "      <th></th>\n",
       "      <th></th>\n",
       "      <th></th>\n",
       "      <th></th>\n",
       "    </tr>\n",
       "  </thead>\n",
       "  <tbody>\n",
       "    <tr>\n",
       "      <td>2015-06-29</td>\n",
       "      <td>2098.629883</td>\n",
       "      <td>2056.639893</td>\n",
       "      <td>2098.629883</td>\n",
       "      <td>2057.639893</td>\n",
       "      <td>3678960000</td>\n",
       "      <td>2057.639893</td>\n",
       "    </tr>\n",
       "    <tr>\n",
       "      <td>2015-06-30</td>\n",
       "      <td>2074.280029</td>\n",
       "      <td>2056.320068</td>\n",
       "      <td>2061.189941</td>\n",
       "      <td>2063.110107</td>\n",
       "      <td>4078540000</td>\n",
       "      <td>2063.110107</td>\n",
       "    </tr>\n",
       "    <tr>\n",
       "      <td>2015-07-01</td>\n",
       "      <td>2082.780029</td>\n",
       "      <td>2067.000000</td>\n",
       "      <td>2067.000000</td>\n",
       "      <td>2077.419922</td>\n",
       "      <td>3727260000</td>\n",
       "      <td>2077.419922</td>\n",
       "    </tr>\n",
       "    <tr>\n",
       "      <td>2015-07-02</td>\n",
       "      <td>2085.060059</td>\n",
       "      <td>2071.020020</td>\n",
       "      <td>2078.030029</td>\n",
       "      <td>2076.780029</td>\n",
       "      <td>2996540000</td>\n",
       "      <td>2076.780029</td>\n",
       "    </tr>\n",
       "    <tr>\n",
       "      <td>2015-07-06</td>\n",
       "      <td>2078.610107</td>\n",
       "      <td>2058.399902</td>\n",
       "      <td>2073.949951</td>\n",
       "      <td>2068.760010</td>\n",
       "      <td>3486360000</td>\n",
       "      <td>2068.760010</td>\n",
       "    </tr>\n",
       "    <tr>\n",
       "      <td>...</td>\n",
       "      <td>...</td>\n",
       "      <td>...</td>\n",
       "      <td>...</td>\n",
       "      <td>...</td>\n",
       "      <td>...</td>\n",
       "      <td>...</td>\n",
       "    </tr>\n",
       "    <tr>\n",
       "      <td>2020-06-19</td>\n",
       "      <td>3155.530029</td>\n",
       "      <td>3083.110107</td>\n",
       "      <td>3140.290039</td>\n",
       "      <td>3097.739990</td>\n",
       "      <td>8327780000</td>\n",
       "      <td>3097.739990</td>\n",
       "    </tr>\n",
       "    <tr>\n",
       "      <td>2020-06-22</td>\n",
       "      <td>3120.919922</td>\n",
       "      <td>3079.389893</td>\n",
       "      <td>3094.419922</td>\n",
       "      <td>3117.860107</td>\n",
       "      <td>4665380000</td>\n",
       "      <td>3117.860107</td>\n",
       "    </tr>\n",
       "    <tr>\n",
       "      <td>2020-06-23</td>\n",
       "      <td>3154.899902</td>\n",
       "      <td>3127.120117</td>\n",
       "      <td>3138.699951</td>\n",
       "      <td>3131.290039</td>\n",
       "      <td>4704830000</td>\n",
       "      <td>3131.290039</td>\n",
       "    </tr>\n",
       "    <tr>\n",
       "      <td>2020-06-24</td>\n",
       "      <td>3115.010010</td>\n",
       "      <td>3032.129883</td>\n",
       "      <td>3114.399902</td>\n",
       "      <td>3050.330078</td>\n",
       "      <td>5587200000</td>\n",
       "      <td>3050.330078</td>\n",
       "    </tr>\n",
       "    <tr>\n",
       "      <td>2020-06-25</td>\n",
       "      <td>3086.250000</td>\n",
       "      <td>3024.010010</td>\n",
       "      <td>3046.600098</td>\n",
       "      <td>3083.760010</td>\n",
       "      <td>4815420000</td>\n",
       "      <td>3083.760010</td>\n",
       "    </tr>\n",
       "  </tbody>\n",
       "</table>\n",
       "<p>1258 rows × 6 columns</p>\n",
       "</div>"
      ],
      "text/plain": [
       "                   High          Low         Open        Close      Volume  \\\n",
       "Date                                                                         \n",
       "2015-06-29  2098.629883  2056.639893  2098.629883  2057.639893  3678960000   \n",
       "2015-06-30  2074.280029  2056.320068  2061.189941  2063.110107  4078540000   \n",
       "2015-07-01  2082.780029  2067.000000  2067.000000  2077.419922  3727260000   \n",
       "2015-07-02  2085.060059  2071.020020  2078.030029  2076.780029  2996540000   \n",
       "2015-07-06  2078.610107  2058.399902  2073.949951  2068.760010  3486360000   \n",
       "...                 ...          ...          ...          ...         ...   \n",
       "2020-06-19  3155.530029  3083.110107  3140.290039  3097.739990  8327780000   \n",
       "2020-06-22  3120.919922  3079.389893  3094.419922  3117.860107  4665380000   \n",
       "2020-06-23  3154.899902  3127.120117  3138.699951  3131.290039  4704830000   \n",
       "2020-06-24  3115.010010  3032.129883  3114.399902  3050.330078  5587200000   \n",
       "2020-06-25  3086.250000  3024.010010  3046.600098  3083.760010  4815420000   \n",
       "\n",
       "              Adj Close  \n",
       "Date                     \n",
       "2015-06-29  2057.639893  \n",
       "2015-06-30  2063.110107  \n",
       "2015-07-01  2077.419922  \n",
       "2015-07-02  2076.780029  \n",
       "2015-07-06  2068.760010  \n",
       "...                 ...  \n",
       "2020-06-19  3097.739990  \n",
       "2020-06-22  3117.860107  \n",
       "2020-06-23  3131.290039  \n",
       "2020-06-24  3050.330078  \n",
       "2020-06-25  3083.760010  \n",
       "\n",
       "[1258 rows x 6 columns]"
      ]
     },
     "execution_count": 2,
     "metadata": {},
     "output_type": "execute_result"
    }
   ],
   "source": [
    "ticker = \"^GSPC\"\n",
    "SnP = pdr.get_data_yahoo(ticker,dt.date.today()-dt.timedelta(1825),dt.date.today())\n",
    "SnP"
   ]
  },
  {
   "cell_type": "markdown",
   "metadata": {},
   "source": [
    " ### Function to calculate the Cumulative Annual Growth Rate of a trading strategy"
   ]
  },
  {
   "cell_type": "code",
   "execution_count": 3,
   "metadata": {},
   "outputs": [],
   "source": [
    "def CAGR(DF):\n",
    "    df = DF.copy()\n",
    "    df[\"daily_ret\"] = DF[\"Adj Close\"].pct_change()\n",
    "    df[\"cum_return\"] = (1 + df[\"daily_ret\"]).cumprod()\n",
    "    n = len(df)/252 # number of years, 252 is number of trading days in a year, use 52/12 if you have weekly/monthly data\n",
    "    CAGR = (df[\"cum_return\"][-1])**(1/n) - 1\n",
    "    return CAGR"
   ]
  },
  {
   "cell_type": "code",
   "execution_count": 4,
   "metadata": {},
   "outputs": [
    {
     "data": {
      "text/plain": [
       "0.08442147700586444"
      ]
     },
     "execution_count": 4,
     "metadata": {},
     "output_type": "execute_result"
    }
   ],
   "source": [
    "CAGR = CAGR(SnP)\n",
    "CAGR"
   ]
  },
  {
   "cell_type": "markdown",
   "metadata": {},
   "source": [
    "### Function to calculate annualized volatility of a trading strategy"
   ]
  },
  {
   "cell_type": "code",
   "execution_count": 5,
   "metadata": {},
   "outputs": [],
   "source": [
    "def volatility(DF):\n",
    "    df = DF.copy()\n",
    "    df[\"daily_ret\"] = DF[\"Adj Close\"].pct_change()\n",
    "    vol = df[\"daily_ret\"].std() * np.sqrt(252) # use 52/12 if you have weekly/monthly data\n",
    "    return vol"
   ]
  },
  {
   "cell_type": "code",
   "execution_count": 6,
   "metadata": {},
   "outputs": [
    {
     "data": {
      "text/plain": [
       "0.19335786799460325"
      ]
     },
     "execution_count": 6,
     "metadata": {},
     "output_type": "execute_result"
    }
   ],
   "source": [
    "vol = volatility(SnP)\n",
    "vol"
   ]
  },
  {
   "cell_type": "markdown",
   "metadata": {},
   "source": [
    "### Function to calculate sharpe ratio ; rf is the risk free rate"
   ]
  },
  {
   "cell_type": "code",
   "execution_count": 7,
   "metadata": {},
   "outputs": [],
   "source": [
    "def sharpe(DF,rf):\n",
    "    sr = (CAGR - rf)/vol\n",
    "    return sr"
   ]
  },
  {
   "cell_type": "code",
   "execution_count": 8,
   "metadata": {},
   "outputs": [
    {
     "data": {
      "text/plain": [
       "0.11078668392466104"
      ]
     },
     "execution_count": 8,
     "metadata": {},
     "output_type": "execute_result"
    }
   ],
   "source": [
    "sharpe = sharpe(SnP, 0.063) # risk free rate in india is about 6.3%\n",
    "sharpe"
   ]
  },
  {
   "cell_type": "markdown",
   "metadata": {},
   "source": [
    "### Function to calculate sortino ratio ; rf is the risk free rate"
   ]
  },
  {
   "cell_type": "code",
   "execution_count": 9,
   "metadata": {},
   "outputs": [],
   "source": [
    "def sortino(DF,rf):\n",
    "    df = DF.copy()\n",
    "    df[\"daily_ret\"] = DF[\"Adj Close\"].pct_change()\n",
    "    neg_vol = df[df[\"daily_ret\"]<0][\"daily_ret\"].std() * np.sqrt(252)\n",
    "    sr = (CAGR - rf)/neg_vol\n",
    "    return sr"
   ]
  },
  {
   "cell_type": "code",
   "execution_count": 10,
   "metadata": {},
   "outputs": [
    {
     "data": {
      "text/plain": [
       "0.1234359874744036"
      ]
     },
     "execution_count": 10,
     "metadata": {},
     "output_type": "execute_result"
    }
   ],
   "source": [
    "sortino  = sortino(SnP, 0.063) # risk free rate in india is about 6.3%\n",
    "sortino"
   ]
  },
  {
   "cell_type": "markdown",
   "metadata": {},
   "source": [
    "### Function to calculate max drawdown"
   ]
  },
  {
   "cell_type": "code",
   "execution_count": 11,
   "metadata": {},
   "outputs": [],
   "source": [
    "def max_dd(DF):\n",
    "    df = DF.copy()\n",
    "    df[\"daily_ret\"] = DF[\"Adj Close\"].pct_change()\n",
    "    df[\"cum_return\"] = (1 + df[\"daily_ret\"]).cumprod()\n",
    "    df[\"cum_roll_max\"] = df[\"cum_return\"].cummax()\n",
    "    df[\"drawdown\"] = df[\"cum_roll_max\"] - df[\"cum_return\"]\n",
    "    df[\"drawdown_pct\"] = df[\"drawdown\"]/df[\"cum_roll_max\"]\n",
    "    max_dd = df[\"drawdown_pct\"].max()\n",
    "    return max_dd"
   ]
  },
  {
   "cell_type": "code",
   "execution_count": 12,
   "metadata": {},
   "outputs": [
    {
     "data": {
      "text/plain": [
       "0.33924960002653276"
      ]
     },
     "execution_count": 12,
     "metadata": {},
     "output_type": "execute_result"
    }
   ],
   "source": [
    "mdd = max_dd(SnP)\n",
    "mdd"
   ]
  },
  {
   "cell_type": "markdown",
   "metadata": {},
   "source": [
    "### Function to calculate calmar ratio"
   ]
  },
  {
   "cell_type": "code",
   "execution_count": 13,
   "metadata": {},
   "outputs": [],
   "source": [
    "def calmar(DF):\n",
    "    clmr = CAGR/mdd\n",
    "    return clmr"
   ]
  },
  {
   "cell_type": "code",
   "execution_count": 14,
   "metadata": {},
   "outputs": [
    {
     "data": {
      "text/plain": [
       "0.24884768323753906"
      ]
     },
     "execution_count": 14,
     "metadata": {},
     "output_type": "execute_result"
    }
   ],
   "source": [
    "CLMR = calmar(SnP)\n",
    "CLMR"
   ]
  }
 ],
 "metadata": {
  "kernelspec": {
   "display_name": "Python 3",
   "language": "python",
   "name": "python3"
  },
  "language_info": {
   "codemirror_mode": {
    "name": "ipython",
    "version": 3
   },
   "file_extension": ".py",
   "mimetype": "text/x-python",
   "name": "python",
   "nbconvert_exporter": "python",
   "pygments_lexer": "ipython3",
   "version": "3.7.4"
  }
 },
 "nbformat": 4,
 "nbformat_minor": 2
}
