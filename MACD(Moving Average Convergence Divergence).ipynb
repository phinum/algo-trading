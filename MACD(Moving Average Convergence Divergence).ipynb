{
 "cells": [
  {
   "cell_type": "markdown",
   "metadata": {},
   "source": [
    "# Finance & Analytics Club"
   ]
  },
  {
   "cell_type": "markdown",
   "metadata": {},
   "source": [
    "## MACD (Moving Average Convergence Divergence)\n",
    "\n",
    "It is a trend following momentum indicator which is calculated by taking the difference of 2 exponential moving averages of an asset price (typically 26 period EMA and 12 period EMA).\n",
    "\n",
    "A signal line is also calculated which is moving average of MACD line(typically 9 period) calculated in the above step.\n",
    "\n",
    "The MACD line cutting the signal line from below signals a bullish period and the former cutting the latter from above signals a bearish period. This is called crossover strategy.\n",
    "\n",
    "Many false-positives, expecially during sideways market.\n",
    "\n",
    "This indicator is used in conjuction with other indicators.\n",
    "\n",
    "More info at - \"https://www.investopedia.com/terms/m/macd.asp\""
   ]
  },
  {
   "cell_type": "markdown",
   "metadata": {},
   "source": [
    "Import necessary libraries\n"
   ]
  },
  {
   "cell_type": "code",
   "execution_count": 1,
   "metadata": {},
   "outputs": [],
   "source": [
    "import pandas_datareader.data as pdr\n",
    "import datetime as dt\n",
    "import matplotlib.pyplot as plt"
   ]
  },
  {
   "cell_type": "markdown",
   "metadata": {},
   "source": [
    "Download historical data for required stocks"
   ]
  },
  {
   "cell_type": "code",
   "execution_count": 2,
   "metadata": {},
   "outputs": [],
   "source": [
    "ticker = \"RELIANCE.NS\"\n",
    "ohlcv = pdr.get_data_yahoo(ticker,dt.date.today()-dt.timedelta(10000),dt.date.today())"
   ]
  },
  {
   "cell_type": "code",
   "execution_count": 3,
   "metadata": {},
   "outputs": [
    {
     "data": {
      "text/html": [
       "<div>\n",
       "<style scoped>\n",
       "    .dataframe tbody tr th:only-of-type {\n",
       "        vertical-align: middle;\n",
       "    }\n",
       "\n",
       "    .dataframe tbody tr th {\n",
       "        vertical-align: top;\n",
       "    }\n",
       "\n",
       "    .dataframe thead th {\n",
       "        text-align: right;\n",
       "    }\n",
       "</style>\n",
       "<table border=\"1\" class=\"dataframe\">\n",
       "  <thead>\n",
       "    <tr style=\"text-align: right;\">\n",
       "      <th></th>\n",
       "      <th>High</th>\n",
       "      <th>Low</th>\n",
       "      <th>Open</th>\n",
       "      <th>Close</th>\n",
       "      <th>Volume</th>\n",
       "      <th>Adj Close</th>\n",
       "    </tr>\n",
       "    <tr>\n",
       "      <th>Date</th>\n",
       "      <th></th>\n",
       "      <th></th>\n",
       "      <th></th>\n",
       "      <th></th>\n",
       "      <th></th>\n",
       "      <th></th>\n",
       "    </tr>\n",
       "  </thead>\n",
       "  <tbody>\n",
       "    <tr>\n",
       "      <td>1996-01-01</td>\n",
       "      <td>16.095699</td>\n",
       "      <td>15.904300</td>\n",
       "      <td>16.009800</td>\n",
       "      <td>16.068300</td>\n",
       "      <td>47600787.0</td>\n",
       "      <td>2.431136</td>\n",
       "    </tr>\n",
       "    <tr>\n",
       "      <td>1996-01-02</td>\n",
       "      <td>16.107401</td>\n",
       "      <td>15.826200</td>\n",
       "      <td>16.029301</td>\n",
       "      <td>15.943400</td>\n",
       "      <td>77143764.0</td>\n",
       "      <td>2.412238</td>\n",
       "    </tr>\n",
       "    <tr>\n",
       "      <td>1996-01-03</td>\n",
       "      <td>16.943001</td>\n",
       "      <td>16.029301</td>\n",
       "      <td>16.205000</td>\n",
       "      <td>16.064400</td>\n",
       "      <td>95695836.0</td>\n",
       "      <td>2.430546</td>\n",
       "    </tr>\n",
       "    <tr>\n",
       "      <td>1996-01-04</td>\n",
       "      <td>15.962900</td>\n",
       "      <td>15.701300</td>\n",
       "      <td>15.912100</td>\n",
       "      <td>15.916000</td>\n",
       "      <td>99159504.0</td>\n",
       "      <td>2.408093</td>\n",
       "    </tr>\n",
       "    <tr>\n",
       "      <td>1996-01-05</td>\n",
       "      <td>15.853600</td>\n",
       "      <td>15.670000</td>\n",
       "      <td>15.853600</td>\n",
       "      <td>15.806700</td>\n",
       "      <td>76213503.0</td>\n",
       "      <td>2.391556</td>\n",
       "    </tr>\n",
       "    <tr>\n",
       "      <td>...</td>\n",
       "      <td>...</td>\n",
       "      <td>...</td>\n",
       "      <td>...</td>\n",
       "      <td>...</td>\n",
       "      <td>...</td>\n",
       "      <td>...</td>\n",
       "    </tr>\n",
       "    <tr>\n",
       "      <td>2020-06-22</td>\n",
       "      <td>1804.199951</td>\n",
       "      <td>1735.000000</td>\n",
       "      <td>1773.400024</td>\n",
       "      <td>1746.150024</td>\n",
       "      <td>27781693.0</td>\n",
       "      <td>1746.150024</td>\n",
       "    </tr>\n",
       "    <tr>\n",
       "      <td>2020-06-23</td>\n",
       "      <td>1763.750000</td>\n",
       "      <td>1716.099976</td>\n",
       "      <td>1750.000000</td>\n",
       "      <td>1720.900024</td>\n",
       "      <td>17519493.0</td>\n",
       "      <td>1720.900024</td>\n",
       "    </tr>\n",
       "    <tr>\n",
       "      <td>2020-06-24</td>\n",
       "      <td>1772.699951</td>\n",
       "      <td>1711.699951</td>\n",
       "      <td>1735.900024</td>\n",
       "      <td>1727.849976</td>\n",
       "      <td>23807033.0</td>\n",
       "      <td>1727.849976</td>\n",
       "    </tr>\n",
       "    <tr>\n",
       "      <td>2020-06-25</td>\n",
       "      <td>1749.000000</td>\n",
       "      <td>1713.050049</td>\n",
       "      <td>1727.000000</td>\n",
       "      <td>1717.900024</td>\n",
       "      <td>18312025.0</td>\n",
       "      <td>1717.900024</td>\n",
       "    </tr>\n",
       "    <tr>\n",
       "      <td>2020-06-26</td>\n",
       "      <td>1746.800049</td>\n",
       "      <td>1717.000000</td>\n",
       "      <td>1728.800049</td>\n",
       "      <td>1723.900024</td>\n",
       "      <td>8835828.0</td>\n",
       "      <td>1723.900024</td>\n",
       "    </tr>\n",
       "  </tbody>\n",
       "</table>\n",
       "<p>6047 rows × 6 columns</p>\n",
       "</div>"
      ],
      "text/plain": [
       "                   High          Low         Open        Close      Volume  \\\n",
       "Date                                                                         \n",
       "1996-01-01    16.095699    15.904300    16.009800    16.068300  47600787.0   \n",
       "1996-01-02    16.107401    15.826200    16.029301    15.943400  77143764.0   \n",
       "1996-01-03    16.943001    16.029301    16.205000    16.064400  95695836.0   \n",
       "1996-01-04    15.962900    15.701300    15.912100    15.916000  99159504.0   \n",
       "1996-01-05    15.853600    15.670000    15.853600    15.806700  76213503.0   \n",
       "...                 ...          ...          ...          ...         ...   \n",
       "2020-06-22  1804.199951  1735.000000  1773.400024  1746.150024  27781693.0   \n",
       "2020-06-23  1763.750000  1716.099976  1750.000000  1720.900024  17519493.0   \n",
       "2020-06-24  1772.699951  1711.699951  1735.900024  1727.849976  23807033.0   \n",
       "2020-06-25  1749.000000  1713.050049  1727.000000  1717.900024  18312025.0   \n",
       "2020-06-26  1746.800049  1717.000000  1728.800049  1723.900024   8835828.0   \n",
       "\n",
       "              Adj Close  \n",
       "Date                     \n",
       "1996-01-01     2.431136  \n",
       "1996-01-02     2.412238  \n",
       "1996-01-03     2.430546  \n",
       "1996-01-04     2.408093  \n",
       "1996-01-05     2.391556  \n",
       "...                 ...  \n",
       "2020-06-22  1746.150024  \n",
       "2020-06-23  1720.900024  \n",
       "2020-06-24  1727.849976  \n",
       "2020-06-25  1717.900024  \n",
       "2020-06-26  1723.900024  \n",
       "\n",
       "[6047 rows x 6 columns]"
      ]
     },
     "execution_count": 3,
     "metadata": {},
     "output_type": "execute_result"
    }
   ],
   "source": [
    "ohlcv"
   ]
  },
  {
   "cell_type": "markdown",
   "metadata": {},
   "source": [
    "#### Function to calculate MACD typical values a = 12; b =26, c =9"
   ]
  },
  {
   "cell_type": "code",
   "execution_count": 4,
   "metadata": {},
   "outputs": [],
   "source": [
    "def MACD(DF,a,b,c):\n",
    "    df = DF.copy()\n",
    "    df[\"MA_Fast\"]=df[\"Adj Close\"].ewm(span=a,min_periods=a).mean() # ewm is Exponential Moving Average \n",
    "    df[\"MA_Slow\"]=df[\"Adj Close\"].ewm(span=b,min_periods=b).mean()\n",
    "    df[\"MACD\"]=df[\"MA_Fast\"]-df[\"MA_Slow\"]\n",
    "    df[\"Signal\"]=df[\"MACD\"].ewm(span=c,min_periods=c).mean()\n",
    "    df.dropna(inplace=True)\n",
    "    return df"
   ]
  },
  {
   "cell_type": "code",
   "execution_count": 5,
   "metadata": {},
   "outputs": [],
   "source": [
    "df = MACD(ohlcv, 12, 26, 9)"
   ]
  },
  {
   "cell_type": "code",
   "execution_count": 6,
   "metadata": {},
   "outputs": [
    {
     "data": {
      "text/html": [
       "<div>\n",
       "<style scoped>\n",
       "    .dataframe tbody tr th:only-of-type {\n",
       "        vertical-align: middle;\n",
       "    }\n",
       "\n",
       "    .dataframe tbody tr th {\n",
       "        vertical-align: top;\n",
       "    }\n",
       "\n",
       "    .dataframe thead th {\n",
       "        text-align: right;\n",
       "    }\n",
       "</style>\n",
       "<table border=\"1\" class=\"dataframe\">\n",
       "  <thead>\n",
       "    <tr style=\"text-align: right;\">\n",
       "      <th></th>\n",
       "      <th>High</th>\n",
       "      <th>Low</th>\n",
       "      <th>Open</th>\n",
       "      <th>Close</th>\n",
       "      <th>Volume</th>\n",
       "      <th>Adj Close</th>\n",
       "      <th>MA_Fast</th>\n",
       "      <th>MA_Slow</th>\n",
       "      <th>MACD</th>\n",
       "      <th>Signal</th>\n",
       "    </tr>\n",
       "    <tr>\n",
       "      <th>Date</th>\n",
       "      <th></th>\n",
       "      <th></th>\n",
       "      <th></th>\n",
       "      <th></th>\n",
       "      <th></th>\n",
       "      <th></th>\n",
       "      <th></th>\n",
       "      <th></th>\n",
       "      <th></th>\n",
       "      <th></th>\n",
       "    </tr>\n",
       "  </thead>\n",
       "  <tbody>\n",
       "    <tr>\n",
       "      <td>2020-01-29</td>\n",
       "      <td>1494.400024</td>\n",
       "      <td>1464.050049</td>\n",
       "      <td>1474.050049</td>\n",
       "      <td>1479.849976</td>\n",
       "      <td>11313297.0</td>\n",
       "      <td>1479.849976</td>\n",
       "      <td>1514.696667</td>\n",
       "      <td>1525.544362</td>\n",
       "      <td>-10.847695</td>\n",
       "      <td>-3.965191</td>\n",
       "    </tr>\n",
       "    <tr>\n",
       "      <td>2020-01-30</td>\n",
       "      <td>1479.699951</td>\n",
       "      <td>1440.000000</td>\n",
       "      <td>1479.000000</td>\n",
       "      <td>1443.750000</td>\n",
       "      <td>10241756.0</td>\n",
       "      <td>1443.750000</td>\n",
       "      <td>1503.781795</td>\n",
       "      <td>1519.485520</td>\n",
       "      <td>-15.703725</td>\n",
       "      <td>-6.312898</td>\n",
       "    </tr>\n",
       "    <tr>\n",
       "      <td>2020-01-31</td>\n",
       "      <td>1453.250000</td>\n",
       "      <td>1407.199951</td>\n",
       "      <td>1453.000000</td>\n",
       "      <td>1411.650024</td>\n",
       "      <td>15886673.0</td>\n",
       "      <td>1411.650024</td>\n",
       "      <td>1489.607677</td>\n",
       "      <td>1511.497706</td>\n",
       "      <td>-21.890029</td>\n",
       "      <td>-9.428324</td>\n",
       "    </tr>\n",
       "    <tr>\n",
       "      <td>2020-02-03</td>\n",
       "      <td>1399.949951</td>\n",
       "      <td>1363.050049</td>\n",
       "      <td>1369.900024</td>\n",
       "      <td>1385.500000</td>\n",
       "      <td>14040626.0</td>\n",
       "      <td>1385.500000</td>\n",
       "      <td>1473.591111</td>\n",
       "      <td>1502.164542</td>\n",
       "      <td>-28.573431</td>\n",
       "      <td>-13.257346</td>\n",
       "    </tr>\n",
       "    <tr>\n",
       "      <td>2020-02-04</td>\n",
       "      <td>1432.500000</td>\n",
       "      <td>1397.800049</td>\n",
       "      <td>1400.000000</td>\n",
       "      <td>1426.400024</td>\n",
       "      <td>11604666.0</td>\n",
       "      <td>1426.400024</td>\n",
       "      <td>1466.330944</td>\n",
       "      <td>1496.552356</td>\n",
       "      <td>-30.221412</td>\n",
       "      <td>-16.650159</td>\n",
       "    </tr>\n",
       "    <tr>\n",
       "      <td>...</td>\n",
       "      <td>...</td>\n",
       "      <td>...</td>\n",
       "      <td>...</td>\n",
       "      <td>...</td>\n",
       "      <td>...</td>\n",
       "      <td>...</td>\n",
       "      <td>...</td>\n",
       "      <td>...</td>\n",
       "      <td>...</td>\n",
       "      <td>...</td>\n",
       "    </tr>\n",
       "    <tr>\n",
       "      <td>2020-06-22</td>\n",
       "      <td>1804.199951</td>\n",
       "      <td>1735.000000</td>\n",
       "      <td>1773.400024</td>\n",
       "      <td>1746.150024</td>\n",
       "      <td>27781693.0</td>\n",
       "      <td>1746.150024</td>\n",
       "      <td>1631.052703</td>\n",
       "      <td>1559.361395</td>\n",
       "      <td>71.691308</td>\n",
       "      <td>57.633228</td>\n",
       "    </tr>\n",
       "    <tr>\n",
       "      <td>2020-06-23</td>\n",
       "      <td>1763.750000</td>\n",
       "      <td>1716.099976</td>\n",
       "      <td>1750.000000</td>\n",
       "      <td>1720.900024</td>\n",
       "      <td>17519493.0</td>\n",
       "      <td>1720.900024</td>\n",
       "      <td>1644.875368</td>\n",
       "      <td>1571.327219</td>\n",
       "      <td>73.548148</td>\n",
       "      <td>60.816212</td>\n",
       "    </tr>\n",
       "    <tr>\n",
       "      <td>2020-06-24</td>\n",
       "      <td>1772.699951</td>\n",
       "      <td>1711.699951</td>\n",
       "      <td>1735.900024</td>\n",
       "      <td>1727.849976</td>\n",
       "      <td>23807033.0</td>\n",
       "      <td>1727.849976</td>\n",
       "      <td>1657.640692</td>\n",
       "      <td>1582.921497</td>\n",
       "      <td>74.719195</td>\n",
       "      <td>63.596808</td>\n",
       "    </tr>\n",
       "    <tr>\n",
       "      <td>2020-06-25</td>\n",
       "      <td>1749.000000</td>\n",
       "      <td>1713.050049</td>\n",
       "      <td>1727.000000</td>\n",
       "      <td>1717.900024</td>\n",
       "      <td>18312025.0</td>\n",
       "      <td>1717.900024</td>\n",
       "      <td>1666.911359</td>\n",
       "      <td>1592.919907</td>\n",
       "      <td>73.991452</td>\n",
       "      <td>65.675737</td>\n",
       "    </tr>\n",
       "    <tr>\n",
       "      <td>2020-06-26</td>\n",
       "      <td>1746.800049</td>\n",
       "      <td>1717.000000</td>\n",
       "      <td>1728.800049</td>\n",
       "      <td>1723.900024</td>\n",
       "      <td>8835828.0</td>\n",
       "      <td>1723.900024</td>\n",
       "      <td>1675.678846</td>\n",
       "      <td>1602.622138</td>\n",
       "      <td>73.056708</td>\n",
       "      <td>67.151931</td>\n",
       "    </tr>\n",
       "  </tbody>\n",
       "</table>\n",
       "<p>100 rows × 10 columns</p>\n",
       "</div>"
      ],
      "text/plain": [
       "                   High          Low         Open        Close      Volume  \\\n",
       "Date                                                                         \n",
       "2020-01-29  1494.400024  1464.050049  1474.050049  1479.849976  11313297.0   \n",
       "2020-01-30  1479.699951  1440.000000  1479.000000  1443.750000  10241756.0   \n",
       "2020-01-31  1453.250000  1407.199951  1453.000000  1411.650024  15886673.0   \n",
       "2020-02-03  1399.949951  1363.050049  1369.900024  1385.500000  14040626.0   \n",
       "2020-02-04  1432.500000  1397.800049  1400.000000  1426.400024  11604666.0   \n",
       "...                 ...          ...          ...          ...         ...   \n",
       "2020-06-22  1804.199951  1735.000000  1773.400024  1746.150024  27781693.0   \n",
       "2020-06-23  1763.750000  1716.099976  1750.000000  1720.900024  17519493.0   \n",
       "2020-06-24  1772.699951  1711.699951  1735.900024  1727.849976  23807033.0   \n",
       "2020-06-25  1749.000000  1713.050049  1727.000000  1717.900024  18312025.0   \n",
       "2020-06-26  1746.800049  1717.000000  1728.800049  1723.900024   8835828.0   \n",
       "\n",
       "              Adj Close      MA_Fast      MA_Slow       MACD     Signal  \n",
       "Date                                                                     \n",
       "2020-01-29  1479.849976  1514.696667  1525.544362 -10.847695  -3.965191  \n",
       "2020-01-30  1443.750000  1503.781795  1519.485520 -15.703725  -6.312898  \n",
       "2020-01-31  1411.650024  1489.607677  1511.497706 -21.890029  -9.428324  \n",
       "2020-02-03  1385.500000  1473.591111  1502.164542 -28.573431 -13.257346  \n",
       "2020-02-04  1426.400024  1466.330944  1496.552356 -30.221412 -16.650159  \n",
       "...                 ...          ...          ...        ...        ...  \n",
       "2020-06-22  1746.150024  1631.052703  1559.361395  71.691308  57.633228  \n",
       "2020-06-23  1720.900024  1644.875368  1571.327219  73.548148  60.816212  \n",
       "2020-06-24  1727.849976  1657.640692  1582.921497  74.719195  63.596808  \n",
       "2020-06-25  1717.900024  1666.911359  1592.919907  73.991452  65.675737  \n",
       "2020-06-26  1723.900024  1675.678846  1602.622138  73.056708  67.151931  \n",
       "\n",
       "[100 rows x 10 columns]"
      ]
     },
     "execution_count": 6,
     "metadata": {},
     "output_type": "execute_result"
    }
   ],
   "source": [
    "df.tail(100) # shows last 100 data points in our dataframe"
   ]
  },
  {
   "cell_type": "code",
   "execution_count": 7,
   "metadata": {},
   "outputs": [
    {
     "name": "stderr",
     "output_type": "stream",
     "text": [
      "/Users/subhamgupta/anaconda3/lib/python3.7/site-packages/pandas/plotting/_matplotlib/converter.py:103: FutureWarning: Using an implicitly registered datetime converter for a matplotlib plotting method. The converter was registered by pandas on import. Future versions of pandas will require you to explicitly register matplotlib converters.\n",
      "\n",
      "To register the converters:\n",
      "\t>>> from pandas.plotting import register_matplotlib_converters\n",
      "\t>>> register_matplotlib_converters()\n",
      "  warnings.warn(msg, FutureWarning)\n"
     ]
    },
    {
     "data": {
      "text/plain": [
       "Text(0.5, 1.0, 'Volume')"
      ]
     },
     "execution_count": 7,
     "metadata": {},
     "output_type": "execute_result"
    },
    {
     "data": {
      "image/png": "[encoded data removed]",
      "text/plain": [
       "<Figure size 720x288 with 1 Axes>"
      ]
     },
     "metadata": {
      "needs_background": "light"
     },
     "output_type": "display_data"
    }
   ],
   "source": [
    "plt.figure(figsize = (10,4))\n",
    "plt.plot(df.iloc[-100:,4].index, df.iloc[-100:,4].values)\n",
    "plt.title('Volume')"
   ]
  },
  {
   "cell_type": "code",
   "execution_count": 8,
   "metadata": {
    "scrolled": true
   },
   "outputs": [
    {
     "data": {
      "text/plain": [
       "Text(0.5, 1.0, 'Adjusted Close Price')"
      ]
     },
     "execution_count": 8,
     "metadata": {},
     "output_type": "execute_result"
    },
    {
     "data": {
      "image/png": "[encoded data removed]",
      "text/plain": [
       "<Figure size 720x288 with 1 Axes>"
      ]
     },
     "metadata": {
      "needs_background": "light"
     },
     "output_type": "display_data"
    }
   ],
   "source": [
    "plt.figure(figsize = (10,4))\n",
    "plt.bar(df.iloc[-100:,5].index, df.iloc[-100:,5].values)\n",
    "plt.title('Adjusted Close Price')"
   ]
  },
  {
   "cell_type": "markdown",
   "metadata": {},
   "source": [
    "## Finally the MACD graph"
   ]
  },
  {
   "cell_type": "code",
   "execution_count": 9,
   "metadata": {},
   "outputs": [
    {
     "data": {
      "image/png": "[encoded data removed]",
      "text/plain": [
       "<Figure size 720x432 with 1 Axes>"
      ]
     },
     "metadata": {
      "needs_background": "light"
     },
     "output_type": "display_data"
    }
   ],
   "source": [
    "plt.figure(figsize = (10,6))\n",
    "plt.plot(df.iloc[-100:,[-2,-1]])\n",
    "plt.title('MACD')\n",
    "plt.legend(('MACD','Signal'),loc='best')\n",
    "\n",
    "plt.show()"
   ]
  },
  {
   "cell_type": "markdown",
   "metadata": {},
   "source": [
    "#### you can clearly see that initially there werea lot of false positives. "
   ]
  }
 ],
 "metadata": {
  "kernelspec": {
   "display_name": "Python 3",
   "language": "python",
   "name": "python3"
  },
  "language_info": {
   "codemirror_mode": {
    "name": "ipython",
    "version": 3
   },
   "file_extension": ".py",
   "mimetype": "text/x-python",
   "name": "python",
   "nbconvert_exporter": "python",
   "pygments_lexer": "ipython3",
   "version": "3.7.4"
  }
 },
 "nbformat": 4,
 "nbformat_minor": 2
}
